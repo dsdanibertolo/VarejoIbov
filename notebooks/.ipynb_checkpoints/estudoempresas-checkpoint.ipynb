{
 "cells": [
  {
   "cell_type": "markdown",
   "metadata": {},
   "source": [
    "# Análise de cotação de empresas potenciais em valorização IBOV\n",
    "Autora: Daniela Guerra Lima Bertolo\n",
    "\n",
    "\n",
    "## Objetivos: \n",
    "Analizar a evolução das principais empresas de varejo e e-commerce do ibovespa: Magazine Luíza, Lojas Americanas e Submarino\n",
    "Não com intuito de recomendação de compra ou venda, mas de observar a evolução das cotações nos últimos 5 anos."
   ]
  },
  {
   "cell_type": "markdown",
   "metadata": {},
   "source": [
    "## Análise Inicial\n",
    "Começar analizando magazine luiza , americanas, submarino, tim, wege, rumo, verificar empresas de energia eólica e solar, \n",
    "technos, vivara, via varejo, pao de açucar, logistica."
   ]
  },
  {
   "cell_type": "code",
   "execution_count": 1,
   "metadata": {},
   "outputs": [],
   "source": [
    "# aqui importei as ferramentas necessárias\n",
    "from pandas_datareader import data, wb\n",
    "import datetime\n",
    "import numpy as np\n",
    "import pandas as pd\n",
    "import seaborn as sns\n",
    "%matplotlib inline\n",
    "import matplotlib.pyplot as plt"
   ]
  },
  {
   "cell_type": "code",
   "execution_count": 2,
   "metadata": {},
   "outputs": [
    {
     "data": {
      "text/html": [
       "<div>\n",
       "<style scoped>\n",
       "    .dataframe tbody tr th:only-of-type {\n",
       "        vertical-align: middle;\n",
       "    }\n",
       "\n",
       "    .dataframe tbody tr th {\n",
       "        vertical-align: top;\n",
       "    }\n",
       "\n",
       "    .dataframe thead th {\n",
       "        text-align: right;\n",
       "    }\n",
       "</style>\n",
       "<table border=\"1\" class=\"dataframe\">\n",
       "  <thead>\n",
       "    <tr style=\"text-align: right;\">\n",
       "      <th></th>\n",
       "      <th>datetime</th>\n",
       "      <th>ticker</th>\n",
       "      <th>open</th>\n",
       "      <th>close</th>\n",
       "      <th>high</th>\n",
       "      <th>low</th>\n",
       "      <th>volume</th>\n",
       "    </tr>\n",
       "  </thead>\n",
       "  <tbody>\n",
       "    <tr>\n",
       "      <th>0</th>\n",
       "      <td>1998-03-05</td>\n",
       "      <td>BRDT3</td>\n",
       "      <td>28.01</td>\n",
       "      <td>32.5</td>\n",
       "      <td>32.5</td>\n",
       "      <td>28.01</td>\n",
       "      <td>1336.43</td>\n",
       "    </tr>\n",
       "  </tbody>\n",
       "</table>\n",
       "</div>"
      ],
      "text/plain": [
       "     datetime ticker   open  close  high    low   volume\n",
       "0  1998-03-05  BRDT3  28.01   32.5  32.5  28.01  1336.43"
      ]
     },
     "execution_count": 2,
     "metadata": {},
     "output_type": "execute_result"
    }
   ],
   "source": [
    "# leitura do dataset e uso do datetime usado na tarefa do curso mencionado, \n",
    "# como dados muito antigos não me interessavam filtrei à partir de 2010\n",
    "\n",
    "start = datetime.datetime(2015,5,2)\n",
    "end = datetime.datetime(2019,1,1)\n",
    "data_source='yahoo'\n",
    "\n",
    "acoes = pd.read_csv('ibovespa-stocks.zip') # dataset extraído do kaggle\n",
    "acoes.head(1)"
   ]
  },
  {
   "cell_type": "code",
   "execution_count": 3,
   "metadata": {},
   "outputs": [
    {
     "data": {
      "text/plain": [
       "datetime     2018-12-28\n",
       "ticker            MGLU3\n",
       "open                579\n",
       "close            621.79\n",
       "high                622\n",
       "low              561.42\n",
       "volume      1.22413e+09\n",
       "dtype: object"
      ]
     },
     "execution_count": 3,
     "metadata": {},
     "output_type": "execute_result"
    }
   ],
   "source": [
    "acoes[acoes['ticker'] == 'MGLU3'].max()"
   ]
  },
  {
   "cell_type": "code",
   "execution_count": 4,
   "metadata": {},
   "outputs": [
    {
     "name": "stdout",
     "output_type": "stream",
     "text": [
      "<class 'pandas.core.frame.DataFrame'>\n",
      "RangeIndex: 193001 entries, 0 to 193000\n",
      "Data columns (total 7 columns):\n",
      "datetime    193001 non-null object\n",
      "ticker      193001 non-null object\n",
      "open        193001 non-null float64\n",
      "close       193001 non-null float64\n",
      "high        193001 non-null float64\n",
      "low         193001 non-null float64\n",
      "volume      193001 non-null float64\n",
      "dtypes: float64(5), object(2)\n",
      "memory usage: 10.3+ MB\n"
     ]
    }
   ],
   "source": [
    "acoes.info() "
   ]
  },
  {
   "cell_type": "code",
   "execution_count": 5,
   "metadata": {},
   "outputs": [
    {
     "data": {
      "text/plain": [
       "array(['LAME4', 'BTOW3', 'MGLU3'], dtype=object)"
      ]
     },
     "execution_count": 5,
     "metadata": {},
     "output_type": "execute_result"
    }
   ],
   "source": [
    "acoes = acoes[(acoes['ticker']=='MGLU3')|(acoes['ticker']=='LAME4')|(acoes['ticker']=='BTOW3')]\n",
    "acoes['ticker'].unique()"
   ]
  },
  {
   "cell_type": "markdown",
   "metadata": {},
   "source": [
    "# Principais informações\n",
    "\n",
    "**Para fins de observação,  extraí deste data source as cotações máximas e mínimas das 3 principais empresas de varejo/ecommerce da Bovespa desde 2015. \n",
    "É possível enxergar o quanto o setor cresceu em valor e também as empresas separadamente.**\n"
   ]
  },
  {
   "cell_type": "code",
   "execution_count": 6,
   "metadata": {},
   "outputs": [
    {
     "data": {
      "text/html": [
       "<div>\n",
       "<style scoped>\n",
       "    .dataframe tbody tr th:only-of-type {\n",
       "        vertical-align: middle;\n",
       "    }\n",
       "\n",
       "    .dataframe tbody tr th {\n",
       "        vertical-align: top;\n",
       "    }\n",
       "\n",
       "    .dataframe thead th {\n",
       "        text-align: right;\n",
       "    }\n",
       "</style>\n",
       "<table border=\"1\" class=\"dataframe\">\n",
       "  <thead>\n",
       "    <tr style=\"text-align: right;\">\n",
       "      <th></th>\n",
       "      <th>max</th>\n",
       "      <th>min</th>\n",
       "    </tr>\n",
       "    <tr>\n",
       "      <th>ticker</th>\n",
       "      <th></th>\n",
       "      <th></th>\n",
       "    </tr>\n",
       "  </thead>\n",
       "  <tbody>\n",
       "    <tr>\n",
       "      <th>BTOW3</th>\n",
       "      <td>93.89</td>\n",
       "      <td>5.05</td>\n",
       "    </tr>\n",
       "    <tr>\n",
       "      <th>LAME4</th>\n",
       "      <td>187.84</td>\n",
       "      <td>1.80</td>\n",
       "    </tr>\n",
       "    <tr>\n",
       "      <th>MGLU3</th>\n",
       "      <td>621.79</td>\n",
       "      <td>1.78</td>\n",
       "    </tr>\n",
       "  </tbody>\n",
       "</table>\n",
       "</div>"
      ],
      "text/plain": [
       "           max   min\n",
       "ticker              \n",
       "BTOW3    93.89  5.05\n",
       "LAME4   187.84  1.80\n",
       "MGLU3   621.79  1.78"
      ]
     },
     "execution_count": 6,
     "metadata": {},
     "output_type": "execute_result"
    }
   ],
   "source": [
    "#primeiro eu agrupo as ações do ibovespa com o groupby depois com o aggregate \n",
    "#extraio o maximo que cada ação chegou em sua cotação no perído analisado\n",
    "acoes[['ticker','close']].groupby('ticker')['close'].aggregate(['max','min'])"
   ]
  },
  {
   "cell_type": "code",
   "execution_count": 7,
   "metadata": {},
   "outputs": [],
   "source": [
    "#sns.boxplot(x ='close', y = 'volume', data=acoes, color = 'red', orient = 'v')"
   ]
  },
  {
   "cell_type": "code",
   "execution_count": 8,
   "metadata": {},
   "outputs": [],
   "source": [
    "#sns.jointplot(x ='close', y='volume',data= acoes,size=20)"
   ]
  },
  {
   "cell_type": "code",
   "execution_count": 9,
   "metadata": {},
   "outputs": [],
   "source": [
    "#acoes['close'].plot()\n",
    "#plt.legend()"
   ]
  },
  {
   "cell_type": "code",
   "execution_count": 10,
   "metadata": {},
   "outputs": [],
   "source": [
    "mglu = data.DataReader('MGLU3.SA','yahoo', start, end)\n",
    "lame = data.DataReader('LAME4.SA','yahoo', start, end)\n",
    "btow = data.DataReader('BTOW3.SA','yahoo', start, end)\n"
   ]
  },
  {
   "cell_type": "code",
   "execution_count": 11,
   "metadata": {},
   "outputs": [
    {
     "data": {
      "text/html": [
       "<div>\n",
       "<style scoped>\n",
       "    .dataframe tbody tr th:only-of-type {\n",
       "        vertical-align: middle;\n",
       "    }\n",
       "\n",
       "    .dataframe tbody tr th {\n",
       "        vertical-align: top;\n",
       "    }\n",
       "\n",
       "    .dataframe thead th {\n",
       "        text-align: right;\n",
       "    }\n",
       "</style>\n",
       "<table border=\"1\" class=\"dataframe\">\n",
       "  <thead>\n",
       "    <tr style=\"text-align: right;\">\n",
       "      <th></th>\n",
       "      <th>High</th>\n",
       "      <th>Low</th>\n",
       "      <th>Open</th>\n",
       "      <th>Close</th>\n",
       "      <th>Volume</th>\n",
       "      <th>Adj Close</th>\n",
       "    </tr>\n",
       "    <tr>\n",
       "      <th>Date</th>\n",
       "      <th></th>\n",
       "      <th></th>\n",
       "      <th></th>\n",
       "      <th></th>\n",
       "      <th></th>\n",
       "      <th></th>\n",
       "    </tr>\n",
       "  </thead>\n",
       "  <tbody>\n",
       "    <tr>\n",
       "      <th>2015-05-04</th>\n",
       "      <td>0.658750</td>\n",
       "      <td>0.630000</td>\n",
       "      <td>0.633750</td>\n",
       "      <td>0.657500</td>\n",
       "      <td>6155200.0</td>\n",
       "      <td>0.418340</td>\n",
       "    </tr>\n",
       "    <tr>\n",
       "      <th>2015-05-05</th>\n",
       "      <td>0.683750</td>\n",
       "      <td>0.656250</td>\n",
       "      <td>0.656250</td>\n",
       "      <td>0.681250</td>\n",
       "      <td>6688000.0</td>\n",
       "      <td>0.433451</td>\n",
       "    </tr>\n",
       "    <tr>\n",
       "      <th>2015-05-06</th>\n",
       "      <td>0.695000</td>\n",
       "      <td>0.658750</td>\n",
       "      <td>0.675000</td>\n",
       "      <td>0.693750</td>\n",
       "      <td>5188000.0</td>\n",
       "      <td>0.441404</td>\n",
       "    </tr>\n",
       "    <tr>\n",
       "      <th>2015-05-07</th>\n",
       "      <td>0.712500</td>\n",
       "      <td>0.680000</td>\n",
       "      <td>0.700000</td>\n",
       "      <td>0.686250</td>\n",
       "      <td>4905600.0</td>\n",
       "      <td>0.436632</td>\n",
       "    </tr>\n",
       "    <tr>\n",
       "      <th>2015-05-08</th>\n",
       "      <td>0.690000</td>\n",
       "      <td>0.621250</td>\n",
       "      <td>0.690000</td>\n",
       "      <td>0.627500</td>\n",
       "      <td>17799200.0</td>\n",
       "      <td>0.399252</td>\n",
       "    </tr>\n",
       "    <tr>\n",
       "      <th>2015-05-11</th>\n",
       "      <td>0.636250</td>\n",
       "      <td>0.616250</td>\n",
       "      <td>0.631250</td>\n",
       "      <td>0.623750</td>\n",
       "      <td>6096800.0</td>\n",
       "      <td>0.396866</td>\n",
       "    </tr>\n",
       "    <tr>\n",
       "      <th>2015-05-12</th>\n",
       "      <td>0.626250</td>\n",
       "      <td>0.616250</td>\n",
       "      <td>0.618750</td>\n",
       "      <td>0.622500</td>\n",
       "      <td>3663200.0</td>\n",
       "      <td>0.396071</td>\n",
       "    </tr>\n",
       "    <tr>\n",
       "      <th>2015-05-13</th>\n",
       "      <td>0.630000</td>\n",
       "      <td>0.611250</td>\n",
       "      <td>0.627500</td>\n",
       "      <td>0.620000</td>\n",
       "      <td>4212000.0</td>\n",
       "      <td>0.394480</td>\n",
       "    </tr>\n",
       "    <tr>\n",
       "      <th>2015-05-14</th>\n",
       "      <td>0.622500</td>\n",
       "      <td>0.581250</td>\n",
       "      <td>0.621250</td>\n",
       "      <td>0.597500</td>\n",
       "      <td>7516000.0</td>\n",
       "      <td>0.380164</td>\n",
       "    </tr>\n",
       "    <tr>\n",
       "      <th>2015-05-15</th>\n",
       "      <td>0.616250</td>\n",
       "      <td>0.587500</td>\n",
       "      <td>0.600000</td>\n",
       "      <td>0.607500</td>\n",
       "      <td>5413600.0</td>\n",
       "      <td>0.386527</td>\n",
       "    </tr>\n",
       "    <tr>\n",
       "      <th>2015-05-18</th>\n",
       "      <td>0.612500</td>\n",
       "      <td>0.590000</td>\n",
       "      <td>0.608750</td>\n",
       "      <td>0.602500</td>\n",
       "      <td>2516000.0</td>\n",
       "      <td>0.383346</td>\n",
       "    </tr>\n",
       "    <tr>\n",
       "      <th>2015-05-19</th>\n",
       "      <td>0.603750</td>\n",
       "      <td>0.585000</td>\n",
       "      <td>0.600000</td>\n",
       "      <td>0.591250</td>\n",
       "      <td>4220800.0</td>\n",
       "      <td>0.376188</td>\n",
       "    </tr>\n",
       "    <tr>\n",
       "      <th>2015-05-20</th>\n",
       "      <td>0.597500</td>\n",
       "      <td>0.576250</td>\n",
       "      <td>0.597500</td>\n",
       "      <td>0.577500</td>\n",
       "      <td>4753600.0</td>\n",
       "      <td>0.367439</td>\n",
       "    </tr>\n",
       "    <tr>\n",
       "      <th>2015-05-21</th>\n",
       "      <td>0.583750</td>\n",
       "      <td>0.570000</td>\n",
       "      <td>0.578750</td>\n",
       "      <td>0.580000</td>\n",
       "      <td>1588800.0</td>\n",
       "      <td>0.369030</td>\n",
       "    </tr>\n",
       "    <tr>\n",
       "      <th>2015-05-22</th>\n",
       "      <td>0.588750</td>\n",
       "      <td>0.570000</td>\n",
       "      <td>0.582500</td>\n",
       "      <td>0.571250</td>\n",
       "      <td>1909600.0</td>\n",
       "      <td>0.363463</td>\n",
       "    </tr>\n",
       "    <tr>\n",
       "      <th>2015-05-25</th>\n",
       "      <td>0.583750</td>\n",
       "      <td>0.565000</td>\n",
       "      <td>0.571250</td>\n",
       "      <td>0.566250</td>\n",
       "      <td>1467200.0</td>\n",
       "      <td>0.360281</td>\n",
       "    </tr>\n",
       "    <tr>\n",
       "      <th>2015-05-26</th>\n",
       "      <td>0.567500</td>\n",
       "      <td>0.546250</td>\n",
       "      <td>0.563750</td>\n",
       "      <td>0.547500</td>\n",
       "      <td>10908000.0</td>\n",
       "      <td>0.348351</td>\n",
       "    </tr>\n",
       "    <tr>\n",
       "      <th>2015-05-27</th>\n",
       "      <td>0.550000</td>\n",
       "      <td>0.522500</td>\n",
       "      <td>0.548750</td>\n",
       "      <td>0.550000</td>\n",
       "      <td>10738400.0</td>\n",
       "      <td>0.349942</td>\n",
       "    </tr>\n",
       "    <tr>\n",
       "      <th>2015-05-28</th>\n",
       "      <td>0.576250</td>\n",
       "      <td>0.547500</td>\n",
       "      <td>0.560000</td>\n",
       "      <td>0.548750</td>\n",
       "      <td>9936800.0</td>\n",
       "      <td>0.349147</td>\n",
       "    </tr>\n",
       "    <tr>\n",
       "      <th>2015-05-29</th>\n",
       "      <td>0.552500</td>\n",
       "      <td>0.528750</td>\n",
       "      <td>0.552500</td>\n",
       "      <td>0.535000</td>\n",
       "      <td>7225600.0</td>\n",
       "      <td>0.340398</td>\n",
       "    </tr>\n",
       "    <tr>\n",
       "      <th>2015-06-01</th>\n",
       "      <td>0.551250</td>\n",
       "      <td>0.532500</td>\n",
       "      <td>0.532500</td>\n",
       "      <td>0.540000</td>\n",
       "      <td>4058400.0</td>\n",
       "      <td>0.343579</td>\n",
       "    </tr>\n",
       "    <tr>\n",
       "      <th>2015-06-02</th>\n",
       "      <td>0.550000</td>\n",
       "      <td>0.525000</td>\n",
       "      <td>0.542500</td>\n",
       "      <td>0.531250</td>\n",
       "      <td>9927200.0</td>\n",
       "      <td>0.338012</td>\n",
       "    </tr>\n",
       "    <tr>\n",
       "      <th>2015-06-03</th>\n",
       "      <td>0.535000</td>\n",
       "      <td>0.508750</td>\n",
       "      <td>0.532500</td>\n",
       "      <td>0.513750</td>\n",
       "      <td>10342400.0</td>\n",
       "      <td>0.326878</td>\n",
       "    </tr>\n",
       "    <tr>\n",
       "      <th>2015-06-05</th>\n",
       "      <td>0.518750</td>\n",
       "      <td>0.502500</td>\n",
       "      <td>0.515000</td>\n",
       "      <td>0.511250</td>\n",
       "      <td>5320800.0</td>\n",
       "      <td>0.325287</td>\n",
       "    </tr>\n",
       "    <tr>\n",
       "      <th>2015-06-08</th>\n",
       "      <td>0.515000</td>\n",
       "      <td>0.505000</td>\n",
       "      <td>0.515000</td>\n",
       "      <td>0.507500</td>\n",
       "      <td>2582400.0</td>\n",
       "      <td>0.322901</td>\n",
       "    </tr>\n",
       "    <tr>\n",
       "      <th>2015-06-09</th>\n",
       "      <td>0.513750</td>\n",
       "      <td>0.501250</td>\n",
       "      <td>0.506250</td>\n",
       "      <td>0.510000</td>\n",
       "      <td>3071200.0</td>\n",
       "      <td>0.324492</td>\n",
       "    </tr>\n",
       "    <tr>\n",
       "      <th>2015-06-10</th>\n",
       "      <td>0.517500</td>\n",
       "      <td>0.500000</td>\n",
       "      <td>0.515000</td>\n",
       "      <td>0.501250</td>\n",
       "      <td>3350400.0</td>\n",
       "      <td>0.318924</td>\n",
       "    </tr>\n",
       "    <tr>\n",
       "      <th>2015-06-11</th>\n",
       "      <td>0.507500</td>\n",
       "      <td>0.492500</td>\n",
       "      <td>0.502500</td>\n",
       "      <td>0.497500</td>\n",
       "      <td>4363200.0</td>\n",
       "      <td>0.316539</td>\n",
       "    </tr>\n",
       "    <tr>\n",
       "      <th>2015-06-12</th>\n",
       "      <td>0.493750</td>\n",
       "      <td>0.483750</td>\n",
       "      <td>0.493750</td>\n",
       "      <td>0.488750</td>\n",
       "      <td>2374400.0</td>\n",
       "      <td>0.310971</td>\n",
       "    </tr>\n",
       "    <tr>\n",
       "      <th>2015-06-15</th>\n",
       "      <td>0.492500</td>\n",
       "      <td>0.478750</td>\n",
       "      <td>0.488750</td>\n",
       "      <td>0.485000</td>\n",
       "      <td>2284000.0</td>\n",
       "      <td>0.308585</td>\n",
       "    </tr>\n",
       "    <tr>\n",
       "      <th>...</th>\n",
       "      <td>...</td>\n",
       "      <td>...</td>\n",
       "      <td>...</td>\n",
       "      <td>...</td>\n",
       "      <td>...</td>\n",
       "      <td>...</td>\n",
       "    </tr>\n",
       "    <tr>\n",
       "      <th>2018-11-14</th>\n",
       "      <td>19.537500</td>\n",
       "      <td>18.688700</td>\n",
       "      <td>19.293800</td>\n",
       "      <td>19.437500</td>\n",
       "      <td>11627200.0</td>\n",
       "      <td>18.835289</td>\n",
       "    </tr>\n",
       "    <tr>\n",
       "      <th>2018-11-16</th>\n",
       "      <td>19.715000</td>\n",
       "      <td>19.375000</td>\n",
       "      <td>19.611200</td>\n",
       "      <td>19.562500</td>\n",
       "      <td>10806400.0</td>\n",
       "      <td>18.956415</td>\n",
       "    </tr>\n",
       "    <tr>\n",
       "      <th>2018-11-19</th>\n",
       "      <td>19.725000</td>\n",
       "      <td>19.282499</td>\n",
       "      <td>19.625000</td>\n",
       "      <td>19.518700</td>\n",
       "      <td>5355200.0</td>\n",
       "      <td>18.913973</td>\n",
       "    </tr>\n",
       "    <tr>\n",
       "      <th>2018-11-21</th>\n",
       "      <td>19.606300</td>\n",
       "      <td>19.025000</td>\n",
       "      <td>19.348700</td>\n",
       "      <td>19.405001</td>\n",
       "      <td>7469600.0</td>\n",
       "      <td>18.803793</td>\n",
       "    </tr>\n",
       "    <tr>\n",
       "      <th>2018-11-22</th>\n",
       "      <td>20.000000</td>\n",
       "      <td>19.376200</td>\n",
       "      <td>19.388800</td>\n",
       "      <td>20.000000</td>\n",
       "      <td>9015200.0</td>\n",
       "      <td>19.380360</td>\n",
       "    </tr>\n",
       "    <tr>\n",
       "      <th>2018-11-23</th>\n",
       "      <td>20.559999</td>\n",
       "      <td>20.018700</td>\n",
       "      <td>20.025000</td>\n",
       "      <td>20.293800</td>\n",
       "      <td>9522400.0</td>\n",
       "      <td>19.665060</td>\n",
       "    </tr>\n",
       "    <tr>\n",
       "      <th>2018-11-26</th>\n",
       "      <td>20.738800</td>\n",
       "      <td>19.751200</td>\n",
       "      <td>20.500000</td>\n",
       "      <td>19.771200</td>\n",
       "      <td>10952000.0</td>\n",
       "      <td>19.158649</td>\n",
       "    </tr>\n",
       "    <tr>\n",
       "      <th>2018-11-27</th>\n",
       "      <td>21.102501</td>\n",
       "      <td>19.896200</td>\n",
       "      <td>20.037500</td>\n",
       "      <td>21.096300</td>\n",
       "      <td>11514400.0</td>\n",
       "      <td>20.442696</td>\n",
       "    </tr>\n",
       "    <tr>\n",
       "      <th>2018-11-28</th>\n",
       "      <td>21.668800</td>\n",
       "      <td>20.753700</td>\n",
       "      <td>20.875000</td>\n",
       "      <td>21.256300</td>\n",
       "      <td>15602400.0</td>\n",
       "      <td>20.597738</td>\n",
       "    </tr>\n",
       "    <tr>\n",
       "      <th>2018-11-29</th>\n",
       "      <td>21.437500</td>\n",
       "      <td>20.377501</td>\n",
       "      <td>20.812500</td>\n",
       "      <td>21.405001</td>\n",
       "      <td>13967200.0</td>\n",
       "      <td>20.741833</td>\n",
       "    </tr>\n",
       "    <tr>\n",
       "      <th>2018-11-30</th>\n",
       "      <td>21.375000</td>\n",
       "      <td>20.562500</td>\n",
       "      <td>21.186300</td>\n",
       "      <td>20.578800</td>\n",
       "      <td>14056800.0</td>\n",
       "      <td>19.941229</td>\n",
       "    </tr>\n",
       "    <tr>\n",
       "      <th>2018-12-03</th>\n",
       "      <td>21.040001</td>\n",
       "      <td>20.077499</td>\n",
       "      <td>21.000000</td>\n",
       "      <td>20.266300</td>\n",
       "      <td>9081600.0</td>\n",
       "      <td>19.638409</td>\n",
       "    </tr>\n",
       "    <tr>\n",
       "      <th>2018-12-04</th>\n",
       "      <td>20.986200</td>\n",
       "      <td>20.084999</td>\n",
       "      <td>20.382500</td>\n",
       "      <td>20.600000</td>\n",
       "      <td>13332800.0</td>\n",
       "      <td>19.961773</td>\n",
       "    </tr>\n",
       "    <tr>\n",
       "      <th>2018-12-05</th>\n",
       "      <td>20.806200</td>\n",
       "      <td>20.437500</td>\n",
       "      <td>20.598700</td>\n",
       "      <td>20.613800</td>\n",
       "      <td>3836000.0</td>\n",
       "      <td>19.975143</td>\n",
       "    </tr>\n",
       "    <tr>\n",
       "      <th>2018-12-06</th>\n",
       "      <td>20.781200</td>\n",
       "      <td>20.193800</td>\n",
       "      <td>20.312500</td>\n",
       "      <td>20.666300</td>\n",
       "      <td>5756800.0</td>\n",
       "      <td>20.026018</td>\n",
       "    </tr>\n",
       "    <tr>\n",
       "      <th>2018-12-07</th>\n",
       "      <td>20.900000</td>\n",
       "      <td>20.376200</td>\n",
       "      <td>20.565001</td>\n",
       "      <td>20.543800</td>\n",
       "      <td>6428800.0</td>\n",
       "      <td>19.907310</td>\n",
       "    </tr>\n",
       "    <tr>\n",
       "      <th>2018-12-10</th>\n",
       "      <td>20.721300</td>\n",
       "      <td>20.049999</td>\n",
       "      <td>20.543800</td>\n",
       "      <td>20.066200</td>\n",
       "      <td>5544800.0</td>\n",
       "      <td>19.444511</td>\n",
       "    </tr>\n",
       "    <tr>\n",
       "      <th>2018-12-11</th>\n",
       "      <td>20.571301</td>\n",
       "      <td>20.112499</td>\n",
       "      <td>20.375000</td>\n",
       "      <td>20.548700</td>\n",
       "      <td>5144000.0</td>\n",
       "      <td>19.912062</td>\n",
       "    </tr>\n",
       "    <tr>\n",
       "      <th>2018-12-12</th>\n",
       "      <td>21.025000</td>\n",
       "      <td>20.600000</td>\n",
       "      <td>20.600000</td>\n",
       "      <td>21.000000</td>\n",
       "      <td>6977600.0</td>\n",
       "      <td>20.349379</td>\n",
       "    </tr>\n",
       "    <tr>\n",
       "      <th>2018-12-13</th>\n",
       "      <td>21.202499</td>\n",
       "      <td>20.907499</td>\n",
       "      <td>21.017500</td>\n",
       "      <td>20.937500</td>\n",
       "      <td>4767200.0</td>\n",
       "      <td>20.288815</td>\n",
       "    </tr>\n",
       "    <tr>\n",
       "      <th>2018-12-14</th>\n",
       "      <td>21.562500</td>\n",
       "      <td>20.968800</td>\n",
       "      <td>21.084999</td>\n",
       "      <td>21.325001</td>\n",
       "      <td>8799200.0</td>\n",
       "      <td>20.664309</td>\n",
       "    </tr>\n",
       "    <tr>\n",
       "      <th>2018-12-17</th>\n",
       "      <td>21.500000</td>\n",
       "      <td>21.187500</td>\n",
       "      <td>21.325001</td>\n",
       "      <td>21.258801</td>\n",
       "      <td>6956000.0</td>\n",
       "      <td>20.600163</td>\n",
       "    </tr>\n",
       "    <tr>\n",
       "      <th>2018-12-18</th>\n",
       "      <td>21.993700</td>\n",
       "      <td>21.212500</td>\n",
       "      <td>21.337500</td>\n",
       "      <td>21.987499</td>\n",
       "      <td>7894400.0</td>\n",
       "      <td>21.306282</td>\n",
       "    </tr>\n",
       "    <tr>\n",
       "      <th>2018-12-19</th>\n",
       "      <td>22.575001</td>\n",
       "      <td>22.018700</td>\n",
       "      <td>22.018700</td>\n",
       "      <td>22.126200</td>\n",
       "      <td>8070400.0</td>\n",
       "      <td>21.440685</td>\n",
       "    </tr>\n",
       "    <tr>\n",
       "      <th>2018-12-20</th>\n",
       "      <td>22.500000</td>\n",
       "      <td>21.626200</td>\n",
       "      <td>22.312500</td>\n",
       "      <td>22.242500</td>\n",
       "      <td>8156800.0</td>\n",
       "      <td>21.553383</td>\n",
       "    </tr>\n",
       "    <tr>\n",
       "      <th>2018-12-21</th>\n",
       "      <td>22.844999</td>\n",
       "      <td>22.001200</td>\n",
       "      <td>22.112499</td>\n",
       "      <td>22.844999</td>\n",
       "      <td>9687200.0</td>\n",
       "      <td>22.137215</td>\n",
       "    </tr>\n",
       "    <tr>\n",
       "      <th>2018-12-26</th>\n",
       "      <td>22.757500</td>\n",
       "      <td>22.062500</td>\n",
       "      <td>22.750000</td>\n",
       "      <td>22.094999</td>\n",
       "      <td>6412000.0</td>\n",
       "      <td>21.410452</td>\n",
       "    </tr>\n",
       "    <tr>\n",
       "      <th>2018-12-27</th>\n",
       "      <td>22.400000</td>\n",
       "      <td>21.687500</td>\n",
       "      <td>22.187500</td>\n",
       "      <td>21.750000</td>\n",
       "      <td>5149600.0</td>\n",
       "      <td>21.076141</td>\n",
       "    </tr>\n",
       "    <tr>\n",
       "      <th>2018-12-28</th>\n",
       "      <td>22.633801</td>\n",
       "      <td>22.006300</td>\n",
       "      <td>22.006300</td>\n",
       "      <td>22.633801</td>\n",
       "      <td>6636000.0</td>\n",
       "      <td>21.932560</td>\n",
       "    </tr>\n",
       "    <tr>\n",
       "      <th>2019-01-02</th>\n",
       "      <td>23.248800</td>\n",
       "      <td>22.378700</td>\n",
       "      <td>22.552500</td>\n",
       "      <td>23.248800</td>\n",
       "      <td>6754400.0</td>\n",
       "      <td>23.134317</td>\n",
       "    </tr>\n",
       "  </tbody>\n",
       "</table>\n",
       "<p>914 rows × 6 columns</p>\n",
       "</div>"
      ],
      "text/plain": [
       "                 High        Low       Open      Close      Volume  Adj Close\n",
       "Date                                                                         \n",
       "2015-05-04   0.658750   0.630000   0.633750   0.657500   6155200.0   0.418340\n",
       "2015-05-05   0.683750   0.656250   0.656250   0.681250   6688000.0   0.433451\n",
       "2015-05-06   0.695000   0.658750   0.675000   0.693750   5188000.0   0.441404\n",
       "2015-05-07   0.712500   0.680000   0.700000   0.686250   4905600.0   0.436632\n",
       "2015-05-08   0.690000   0.621250   0.690000   0.627500  17799200.0   0.399252\n",
       "2015-05-11   0.636250   0.616250   0.631250   0.623750   6096800.0   0.396866\n",
       "2015-05-12   0.626250   0.616250   0.618750   0.622500   3663200.0   0.396071\n",
       "2015-05-13   0.630000   0.611250   0.627500   0.620000   4212000.0   0.394480\n",
       "2015-05-14   0.622500   0.581250   0.621250   0.597500   7516000.0   0.380164\n",
       "2015-05-15   0.616250   0.587500   0.600000   0.607500   5413600.0   0.386527\n",
       "2015-05-18   0.612500   0.590000   0.608750   0.602500   2516000.0   0.383346\n",
       "2015-05-19   0.603750   0.585000   0.600000   0.591250   4220800.0   0.376188\n",
       "2015-05-20   0.597500   0.576250   0.597500   0.577500   4753600.0   0.367439\n",
       "2015-05-21   0.583750   0.570000   0.578750   0.580000   1588800.0   0.369030\n",
       "2015-05-22   0.588750   0.570000   0.582500   0.571250   1909600.0   0.363463\n",
       "2015-05-25   0.583750   0.565000   0.571250   0.566250   1467200.0   0.360281\n",
       "2015-05-26   0.567500   0.546250   0.563750   0.547500  10908000.0   0.348351\n",
       "2015-05-27   0.550000   0.522500   0.548750   0.550000  10738400.0   0.349942\n",
       "2015-05-28   0.576250   0.547500   0.560000   0.548750   9936800.0   0.349147\n",
       "2015-05-29   0.552500   0.528750   0.552500   0.535000   7225600.0   0.340398\n",
       "2015-06-01   0.551250   0.532500   0.532500   0.540000   4058400.0   0.343579\n",
       "2015-06-02   0.550000   0.525000   0.542500   0.531250   9927200.0   0.338012\n",
       "2015-06-03   0.535000   0.508750   0.532500   0.513750  10342400.0   0.326878\n",
       "2015-06-05   0.518750   0.502500   0.515000   0.511250   5320800.0   0.325287\n",
       "2015-06-08   0.515000   0.505000   0.515000   0.507500   2582400.0   0.322901\n",
       "2015-06-09   0.513750   0.501250   0.506250   0.510000   3071200.0   0.324492\n",
       "2015-06-10   0.517500   0.500000   0.515000   0.501250   3350400.0   0.318924\n",
       "2015-06-11   0.507500   0.492500   0.502500   0.497500   4363200.0   0.316539\n",
       "2015-06-12   0.493750   0.483750   0.493750   0.488750   2374400.0   0.310971\n",
       "2015-06-15   0.492500   0.478750   0.488750   0.485000   2284000.0   0.308585\n",
       "...               ...        ...        ...        ...         ...        ...\n",
       "2018-11-14  19.537500  18.688700  19.293800  19.437500  11627200.0  18.835289\n",
       "2018-11-16  19.715000  19.375000  19.611200  19.562500  10806400.0  18.956415\n",
       "2018-11-19  19.725000  19.282499  19.625000  19.518700   5355200.0  18.913973\n",
       "2018-11-21  19.606300  19.025000  19.348700  19.405001   7469600.0  18.803793\n",
       "2018-11-22  20.000000  19.376200  19.388800  20.000000   9015200.0  19.380360\n",
       "2018-11-23  20.559999  20.018700  20.025000  20.293800   9522400.0  19.665060\n",
       "2018-11-26  20.738800  19.751200  20.500000  19.771200  10952000.0  19.158649\n",
       "2018-11-27  21.102501  19.896200  20.037500  21.096300  11514400.0  20.442696\n",
       "2018-11-28  21.668800  20.753700  20.875000  21.256300  15602400.0  20.597738\n",
       "2018-11-29  21.437500  20.377501  20.812500  21.405001  13967200.0  20.741833\n",
       "2018-11-30  21.375000  20.562500  21.186300  20.578800  14056800.0  19.941229\n",
       "2018-12-03  21.040001  20.077499  21.000000  20.266300   9081600.0  19.638409\n",
       "2018-12-04  20.986200  20.084999  20.382500  20.600000  13332800.0  19.961773\n",
       "2018-12-05  20.806200  20.437500  20.598700  20.613800   3836000.0  19.975143\n",
       "2018-12-06  20.781200  20.193800  20.312500  20.666300   5756800.0  20.026018\n",
       "2018-12-07  20.900000  20.376200  20.565001  20.543800   6428800.0  19.907310\n",
       "2018-12-10  20.721300  20.049999  20.543800  20.066200   5544800.0  19.444511\n",
       "2018-12-11  20.571301  20.112499  20.375000  20.548700   5144000.0  19.912062\n",
       "2018-12-12  21.025000  20.600000  20.600000  21.000000   6977600.0  20.349379\n",
       "2018-12-13  21.202499  20.907499  21.017500  20.937500   4767200.0  20.288815\n",
       "2018-12-14  21.562500  20.968800  21.084999  21.325001   8799200.0  20.664309\n",
       "2018-12-17  21.500000  21.187500  21.325001  21.258801   6956000.0  20.600163\n",
       "2018-12-18  21.993700  21.212500  21.337500  21.987499   7894400.0  21.306282\n",
       "2018-12-19  22.575001  22.018700  22.018700  22.126200   8070400.0  21.440685\n",
       "2018-12-20  22.500000  21.626200  22.312500  22.242500   8156800.0  21.553383\n",
       "2018-12-21  22.844999  22.001200  22.112499  22.844999   9687200.0  22.137215\n",
       "2018-12-26  22.757500  22.062500  22.750000  22.094999   6412000.0  21.410452\n",
       "2018-12-27  22.400000  21.687500  22.187500  21.750000   5149600.0  21.076141\n",
       "2018-12-28  22.633801  22.006300  22.006300  22.633801   6636000.0  21.932560\n",
       "2019-01-02  23.248800  22.378700  22.552500  23.248800   6754400.0  23.134317\n",
       "\n",
       "[914 rows x 6 columns]"
      ]
     },
     "execution_count": 11,
     "metadata": {},
     "output_type": "execute_result"
    }
   ],
   "source": [
    "mglu.sort_index()"
   ]
  },
  {
   "cell_type": "code",
   "execution_count": 12,
   "metadata": {},
   "outputs": [],
   "source": [
    "#lista de empresas que desejo verificar.\n",
    "varejo_ibov = ['mglu','lame','btow']"
   ]
  },
  {
   "cell_type": "code",
   "execution_count": 13,
   "metadata": {},
   "outputs": [],
   "source": [
    "#concatenando os dataframes extraídos em um único dataframe \"acoes_Varejo\", \n",
    "#tendo as chaves como a lista feita antes para o eixo vertical\n",
    "acoes_Varejo=pd.concat([mglu, btow, lame], axis=1, keys = varejo_ibov)"
   ]
  },
  {
   "cell_type": "code",
   "execution_count": 14,
   "metadata": {},
   "outputs": [],
   "source": [
    "acoes_Varejo.columns.names = ['acao','info']"
   ]
  },
  {
   "cell_type": "code",
   "execution_count": 15,
   "metadata": {},
   "outputs": [
    {
     "data": {
      "text/html": [
       "<div>\n",
       "<style scoped>\n",
       "    .dataframe tbody tr th:only-of-type {\n",
       "        vertical-align: middle;\n",
       "    }\n",
       "\n",
       "    .dataframe tbody tr th {\n",
       "        vertical-align: top;\n",
       "    }\n",
       "\n",
       "    .dataframe thead tr th {\n",
       "        text-align: left;\n",
       "    }\n",
       "\n",
       "    .dataframe thead tr:last-of-type th {\n",
       "        text-align: right;\n",
       "    }\n",
       "</style>\n",
       "<table border=\"1\" class=\"dataframe\">\n",
       "  <thead>\n",
       "    <tr>\n",
       "      <th>acao</th>\n",
       "      <th colspan=\"6\" halign=\"left\">mglu</th>\n",
       "      <th colspan=\"6\" halign=\"left\">lame</th>\n",
       "      <th colspan=\"6\" halign=\"left\">btow</th>\n",
       "    </tr>\n",
       "    <tr>\n",
       "      <th>info</th>\n",
       "      <th>High</th>\n",
       "      <th>Low</th>\n",
       "      <th>Open</th>\n",
       "      <th>Close</th>\n",
       "      <th>Volume</th>\n",
       "      <th>Adj Close</th>\n",
       "      <th>High</th>\n",
       "      <th>Low</th>\n",
       "      <th>Open</th>\n",
       "      <th>Close</th>\n",
       "      <th>Volume</th>\n",
       "      <th>Adj Close</th>\n",
       "      <th>High</th>\n",
       "      <th>Low</th>\n",
       "      <th>Open</th>\n",
       "      <th>Close</th>\n",
       "      <th>Volume</th>\n",
       "      <th>Adj Close</th>\n",
       "    </tr>\n",
       "    <tr>\n",
       "      <th>Date</th>\n",
       "      <th></th>\n",
       "      <th></th>\n",
       "      <th></th>\n",
       "      <th></th>\n",
       "      <th></th>\n",
       "      <th></th>\n",
       "      <th></th>\n",
       "      <th></th>\n",
       "      <th></th>\n",
       "      <th></th>\n",
       "      <th></th>\n",
       "      <th></th>\n",
       "      <th></th>\n",
       "      <th></th>\n",
       "      <th></th>\n",
       "      <th></th>\n",
       "      <th></th>\n",
       "      <th></th>\n",
       "    </tr>\n",
       "  </thead>\n",
       "  <tbody>\n",
       "    <tr>\n",
       "      <th>2015-05-04</th>\n",
       "      <td>0.65875</td>\n",
       "      <td>0.63000</td>\n",
       "      <td>0.63375</td>\n",
       "      <td>0.65750</td>\n",
       "      <td>6155200.0</td>\n",
       "      <td>0.418340</td>\n",
       "      <td>27.086700</td>\n",
       "      <td>26.015200</td>\n",
       "      <td>26.488199</td>\n",
       "      <td>26.015200</td>\n",
       "      <td>362784.0</td>\n",
       "      <td>26.015200</td>\n",
       "      <td>14.6831</td>\n",
       "      <td>14.0104</td>\n",
       "      <td>14.0270</td>\n",
       "      <td>14.5087</td>\n",
       "      <td>3668558.0</td>\n",
       "      <td>13.968391</td>\n",
       "    </tr>\n",
       "    <tr>\n",
       "      <th>2015-05-05</th>\n",
       "      <td>0.68375</td>\n",
       "      <td>0.65625</td>\n",
       "      <td>0.65625</td>\n",
       "      <td>0.68125</td>\n",
       "      <td>6688000.0</td>\n",
       "      <td>0.433451</td>\n",
       "      <td>27.559700</td>\n",
       "      <td>25.242901</td>\n",
       "      <td>26.053801</td>\n",
       "      <td>27.472799</td>\n",
       "      <td>811240.0</td>\n",
       "      <td>27.472799</td>\n",
       "      <td>14.5834</td>\n",
       "      <td>14.2097</td>\n",
       "      <td>14.3259</td>\n",
       "      <td>14.5502</td>\n",
       "      <td>4324195.0</td>\n",
       "      <td>14.008345</td>\n",
       "    </tr>\n",
       "    <tr>\n",
       "      <th>2015-05-06</th>\n",
       "      <td>0.69500</td>\n",
       "      <td>0.65875</td>\n",
       "      <td>0.67500</td>\n",
       "      <td>0.69375</td>\n",
       "      <td>5188000.0</td>\n",
       "      <td>0.441404</td>\n",
       "      <td>27.492100</td>\n",
       "      <td>25.320101</td>\n",
       "      <td>27.163900</td>\n",
       "      <td>25.889700</td>\n",
       "      <td>544901.0</td>\n",
       "      <td>25.889700</td>\n",
       "      <td>14.7578</td>\n",
       "      <td>14.3259</td>\n",
       "      <td>14.4339</td>\n",
       "      <td>14.5751</td>\n",
       "      <td>3193778.0</td>\n",
       "      <td>14.032318</td>\n",
       "    </tr>\n",
       "    <tr>\n",
       "      <th>2015-05-07</th>\n",
       "      <td>0.71250</td>\n",
       "      <td>0.68000</td>\n",
       "      <td>0.70000</td>\n",
       "      <td>0.68625</td>\n",
       "      <td>4905600.0</td>\n",
       "      <td>0.436632</td>\n",
       "      <td>26.015200</td>\n",
       "      <td>23.746700</td>\n",
       "      <td>25.706301</td>\n",
       "      <td>23.939699</td>\n",
       "      <td>479016.0</td>\n",
       "      <td>23.939699</td>\n",
       "      <td>14.6083</td>\n",
       "      <td>14.2429</td>\n",
       "      <td>14.5668</td>\n",
       "      <td>14.5502</td>\n",
       "      <td>2753194.0</td>\n",
       "      <td>14.008345</td>\n",
       "    </tr>\n",
       "    <tr>\n",
       "      <th>2015-05-08</th>\n",
       "      <td>0.69000</td>\n",
       "      <td>0.62125</td>\n",
       "      <td>0.69000</td>\n",
       "      <td>0.62750</td>\n",
       "      <td>17799200.0</td>\n",
       "      <td>0.399252</td>\n",
       "      <td>25.561501</td>\n",
       "      <td>23.988001</td>\n",
       "      <td>23.988001</td>\n",
       "      <td>25.069201</td>\n",
       "      <td>333674.0</td>\n",
       "      <td>25.069201</td>\n",
       "      <td>14.6914</td>\n",
       "      <td>14.3259</td>\n",
       "      <td>14.6914</td>\n",
       "      <td>14.4505</td>\n",
       "      <td>3241220.0</td>\n",
       "      <td>13.912357</td>\n",
       "    </tr>\n",
       "  </tbody>\n",
       "</table>\n",
       "</div>"
      ],
      "text/plain": [
       "acao           mglu                                                   \\\n",
       "info           High      Low     Open    Close      Volume Adj Close   \n",
       "Date                                                                   \n",
       "2015-05-04  0.65875  0.63000  0.63375  0.65750   6155200.0  0.418340   \n",
       "2015-05-05  0.68375  0.65625  0.65625  0.68125   6688000.0  0.433451   \n",
       "2015-05-06  0.69500  0.65875  0.67500  0.69375   5188000.0  0.441404   \n",
       "2015-05-07  0.71250  0.68000  0.70000  0.68625   4905600.0  0.436632   \n",
       "2015-05-08  0.69000  0.62125  0.69000  0.62750  17799200.0  0.399252   \n",
       "\n",
       "acao             lame                                                        \\\n",
       "info             High        Low       Open      Close    Volume  Adj Close   \n",
       "Date                                                                          \n",
       "2015-05-04  27.086700  26.015200  26.488199  26.015200  362784.0  26.015200   \n",
       "2015-05-05  27.559700  25.242901  26.053801  27.472799  811240.0  27.472799   \n",
       "2015-05-06  27.492100  25.320101  27.163900  25.889700  544901.0  25.889700   \n",
       "2015-05-07  26.015200  23.746700  25.706301  23.939699  479016.0  23.939699   \n",
       "2015-05-08  25.561501  23.988001  23.988001  25.069201  333674.0  25.069201   \n",
       "\n",
       "acao           btow                                                   \n",
       "info           High      Low     Open    Close     Volume  Adj Close  \n",
       "Date                                                                  \n",
       "2015-05-04  14.6831  14.0104  14.0270  14.5087  3668558.0  13.968391  \n",
       "2015-05-05  14.5834  14.2097  14.3259  14.5502  4324195.0  14.008345  \n",
       "2015-05-06  14.7578  14.3259  14.4339  14.5751  3193778.0  14.032318  \n",
       "2015-05-07  14.6083  14.2429  14.5668  14.5502  2753194.0  14.008345  \n",
       "2015-05-08  14.6914  14.3259  14.6914  14.4505  3241220.0  13.912357  "
      ]
     },
     "execution_count": 15,
     "metadata": {},
     "output_type": "execute_result"
    }
   ],
   "source": [
    "acoes_Varejo.head()"
   ]
  },
  {
   "cell_type": "markdown",
   "metadata": {},
   "source": [
    "# Análise Exploratória"
   ]
  },
  {
   "cell_type": "code",
   "execution_count": 16,
   "metadata": {},
   "outputs": [
    {
     "data": {
      "text/plain": [
       "acao\n",
       "mglu    23.248800\n",
       "lame    42.501801\n",
       "btow    21.446600\n",
       "dtype: float64"
      ]
     },
     "execution_count": 16,
     "metadata": {},
     "output_type": "execute_result"
    }
   ],
   "source": [
    "acoes_Varejo.xs(key = 'Close', axis = 1, level='info').max()\n",
    "# key é a coluna pela qual queremos cruzar ou analizar os dados; level é o hierarquia dos dados do cabeçalho(nível)"
   ]
  },
  {
   "cell_type": "code",
   "execution_count": 17,
   "metadata": {},
   "outputs": [],
   "source": [
    "returns = pd.DataFrame()"
   ]
  },
  {
   "cell_type": "code",
   "execution_count": 18,
   "metadata": {},
   "outputs": [
    {
     "data": {
      "text/html": [
       "<div>\n",
       "<style scoped>\n",
       "    .dataframe tbody tr th:only-of-type {\n",
       "        vertical-align: middle;\n",
       "    }\n",
       "\n",
       "    .dataframe tbody tr th {\n",
       "        vertical-align: top;\n",
       "    }\n",
       "\n",
       "    .dataframe thead th {\n",
       "        text-align: right;\n",
       "    }\n",
       "</style>\n",
       "<table border=\"1\" class=\"dataframe\">\n",
       "  <thead>\n",
       "    <tr style=\"text-align: right;\">\n",
       "      <th></th>\n",
       "      <th>mgluReturn</th>\n",
       "      <th>lameReturn</th>\n",
       "      <th>btowReturn</th>\n",
       "    </tr>\n",
       "    <tr>\n",
       "      <th>Date</th>\n",
       "      <th></th>\n",
       "      <th></th>\n",
       "      <th></th>\n",
       "    </tr>\n",
       "  </thead>\n",
       "  <tbody>\n",
       "    <tr>\n",
       "      <th>2015-05-04</th>\n",
       "      <td>NaN</td>\n",
       "      <td>NaN</td>\n",
       "      <td>NaN</td>\n",
       "    </tr>\n",
       "    <tr>\n",
       "      <th>2015-05-05</th>\n",
       "      <td>0.036122</td>\n",
       "      <td>0.056029</td>\n",
       "      <td>0.002860</td>\n",
       "    </tr>\n",
       "    <tr>\n",
       "      <th>2015-05-06</th>\n",
       "      <td>0.018349</td>\n",
       "      <td>-0.057624</td>\n",
       "      <td>0.001711</td>\n",
       "    </tr>\n",
       "    <tr>\n",
       "      <th>2015-05-07</th>\n",
       "      <td>-0.010811</td>\n",
       "      <td>-0.075320</td>\n",
       "      <td>-0.001708</td>\n",
       "    </tr>\n",
       "    <tr>\n",
       "      <th>2015-05-08</th>\n",
       "      <td>-0.085610</td>\n",
       "      <td>0.047181</td>\n",
       "      <td>-0.006852</td>\n",
       "    </tr>\n",
       "  </tbody>\n",
       "</table>\n",
       "</div>"
      ],
      "text/plain": [
       "            mgluReturn  lameReturn  btowReturn\n",
       "Date                                          \n",
       "2015-05-04         NaN         NaN         NaN\n",
       "2015-05-05    0.036122    0.056029    0.002860\n",
       "2015-05-06    0.018349   -0.057624    0.001711\n",
       "2015-05-07   -0.010811   -0.075320   -0.001708\n",
       "2015-05-08   -0.085610    0.047181   -0.006852"
      ]
     },
     "execution_count": 18,
     "metadata": {},
     "output_type": "execute_result"
    }
   ],
   "source": [
    "for acao in varejo_ibov: #cod, dando erro.\n",
    "    returns[acao+ 'Return'] = acoes_Varejo[acao]['Close'].pct_change()\n",
    "returns.head()"
   ]
  },
  {
   "cell_type": "code",
   "execution_count": 19,
   "metadata": {},
   "outputs": [
    {
     "data": {
      "text/plain": [
       "<seaborn.axisgrid.PairGrid at 0x2cb43b33390>"
      ]
     },
     "execution_count": 19,
     "metadata": {},
     "output_type": "execute_result"
    },
    {
     "data": {
      "image/png": "[encoded data removed]",
      "text/plain": [
       "<Figure size 540x540 with 12 Axes>"
      ]
     },
     "metadata": {
      "needs_background": "light"
     },
     "output_type": "display_data"
    }
   ],
   "source": [
    "sns.pairplot(returns[1:])"
   ]
  },
  {
   "cell_type": "markdown",
   "metadata": {},
   "source": [
    "### Datas das menores cotações"
   ]
  },
  {
   "cell_type": "code",
   "execution_count": 20,
   "metadata": {},
   "outputs": [
    {
     "data": {
      "text/plain": [
       "mgluReturn   2016-10-26\n",
       "lameReturn   2016-11-11\n",
       "btowReturn   2017-05-18\n",
       "dtype: datetime64[ns]"
      ]
     },
     "execution_count": 20,
     "metadata": {},
     "output_type": "execute_result"
    }
   ],
   "source": [
    "returns.idxmin() "
   ]
  },
  {
   "cell_type": "markdown",
   "metadata": {},
   "source": [
    "### Datas das maiores cotações"
   ]
  },
  {
   "cell_type": "code",
   "execution_count": 21,
   "metadata": {},
   "outputs": [
    {
     "data": {
      "text/plain": [
       "mgluReturn   2015-12-28\n",
       "lameReturn   2016-07-05\n",
       "btowReturn   2015-08-26\n",
       "dtype: datetime64[ns]"
      ]
     },
     "execution_count": 21,
     "metadata": {},
     "output_type": "execute_result"
    }
   ],
   "source": [
    "returns.idxmax() "
   ]
  },
  {
   "cell_type": "markdown",
   "metadata": {},
   "source": [
    "### Volatilidade de cada empresa"
   ]
  },
  {
   "cell_type": "code",
   "execution_count": 22,
   "metadata": {},
   "outputs": [
    {
     "data": {
      "text/plain": [
       "mgluReturn    0.045411\n",
       "lameReturn    0.035712\n",
       "btowReturn    0.022909\n",
       "dtype: float64"
      ]
     },
     "execution_count": 22,
     "metadata": {},
     "output_type": "execute_result"
    }
   ],
   "source": [
    "returns.std()"
   ]
  },
  {
   "cell_type": "code",
   "execution_count": 23,
   "metadata": {},
   "outputs": [
    {
     "name": "stderr",
     "output_type": "stream",
     "text": [
      "C:\\ProgramData\\Anaconda3\\lib\\site-packages\\ipykernel_launcher.py:1: DeprecationWarning: \n",
      ".ix is deprecated. Please use\n",
      ".loc for label based indexing or\n",
      ".iloc for positional indexing\n",
      "\n",
      "See the documentation here:\n",
      "http://pandas.pydata.org/pandas-docs/stable/indexing.html#ix-indexer-is-deprecated\n",
      "  \"\"\"Entry point for launching an IPython kernel.\n"
     ]
    },
    {
     "data": {
      "text/plain": [
       "mgluReturn    0.045411\n",
       "lameReturn    0.035712\n",
       "btowReturn    0.022909\n",
       "dtype: float64"
      ]
     },
     "execution_count": 23,
     "metadata": {},
     "output_type": "execute_result"
    }
   ],
   "source": [
    "returns.ix['2015-01-01':'2019-12-31'].std()"
   ]
  },
  {
   "cell_type": "code",
   "execution_count": 24,
   "metadata": {},
   "outputs": [
    {
     "name": "stderr",
     "output_type": "stream",
     "text": [
      "C:\\ProgramData\\Anaconda3\\lib\\site-packages\\ipykernel_launcher.py:1: DeprecationWarning: \n",
      ".ix is deprecated. Please use\n",
      ".loc for label based indexing or\n",
      ".iloc for positional indexing\n",
      "\n",
      "See the documentation here:\n",
      "http://pandas.pydata.org/pandas-docs/stable/indexing.html#ix-indexer-is-deprecated\n",
      "  \"\"\"Entry point for launching an IPython kernel.\n",
      "C:\\ProgramData\\Anaconda3\\lib\\site-packages\\numpy\\lib\\histograms.py:824: RuntimeWarning: invalid value encountered in greater_equal\n",
      "  keep = (tmp_a >= first_edge)\n",
      "C:\\ProgramData\\Anaconda3\\lib\\site-packages\\numpy\\lib\\histograms.py:825: RuntimeWarning: invalid value encountered in less_equal\n",
      "  keep &= (tmp_a <= last_edge)\n",
      "C:\\ProgramData\\Anaconda3\\lib\\site-packages\\statsmodels\\nonparametric\\kde.py:448: RuntimeWarning: invalid value encountered in greater\n",
      "  X = X[np.logical_and(X > clip[0], X < clip[1])] # won't work for two columns.\n",
      "C:\\ProgramData\\Anaconda3\\lib\\site-packages\\statsmodels\\nonparametric\\kde.py:448: RuntimeWarning: invalid value encountered in less\n",
      "  X = X[np.logical_and(X > clip[0], X < clip[1])] # won't work for two columns.\n"
     ]
    },
    {
     "data": {
      "text/plain": [
       "<matplotlib.axes._subplots.AxesSubplot at 0x2cb44076e10>"
      ]
     },
     "execution_count": 24,
     "metadata": {},
     "output_type": "execute_result"
    },
    {
     "data": {
      "image/png": "[encoded data removed]",
      "text/plain": [
       "<Figure size 432x288 with 1 Axes>"
      ]
     },
     "metadata": {
      "needs_background": "light"
     },
     "output_type": "display_data"
    }
   ],
   "source": [
    "sns.distplot(returns.ix['2015-01-01':'2019-12-31']['mgluReturn'],color='green',bins=100)"
   ]
  },
  {
   "cell_type": "code",
   "execution_count": 25,
   "metadata": {},
   "outputs": [
    {
     "name": "stderr",
     "output_type": "stream",
     "text": [
      "C:\\ProgramData\\Anaconda3\\lib\\site-packages\\ipykernel_launcher.py:1: DeprecationWarning: \n",
      ".ix is deprecated. Please use\n",
      ".loc for label based indexing or\n",
      ".iloc for positional indexing\n",
      "\n",
      "See the documentation here:\n",
      "http://pandas.pydata.org/pandas-docs/stable/indexing.html#ix-indexer-is-deprecated\n",
      "  \"\"\"Entry point for launching an IPython kernel.\n"
     ]
    },
    {
     "data": {
      "text/plain": [
       "<matplotlib.axes._subplots.AxesSubplot at 0x2cb443e4828>"
      ]
     },
     "execution_count": 25,
     "metadata": {},
     "output_type": "execute_result"
    },
    {
     "data": {
      "image/png": "[encoded data removed]",
      "text/plain": [
       "<Figure size 432x288 with 1 Axes>"
      ]
     },
     "metadata": {
      "needs_background": "light"
     },
     "output_type": "display_data"
    }
   ],
   "source": [
    "sns.distplot(returns.ix['2015-01-01':'2019-12-31']['lameReturn'],color='red',bins=100)"
   ]
  },
  {
   "cell_type": "code",
   "execution_count": 26,
   "metadata": {},
   "outputs": [
    {
     "data": {
      "text/plain": [
       "<matplotlib.legend.Legend at 0x2cb4462dd68>"
      ]
     },
     "execution_count": 26,
     "metadata": {},
     "output_type": "execute_result"
    },
    {
     "data": {
      "image/png": "[encoded data removed]",
      "text/plain": [
       "<Figure size 864x288 with 1 Axes>"
      ]
     },
     "metadata": {
      "needs_background": "light"
     },
     "output_type": "display_data"
    }
   ],
   "source": [
    "for acao in varejo_ibov:\n",
    "    acoes_Varejo[acao]['Close'].plot(figsize=(12,4),label=acao)\n",
    "plt.legend()"
   ]
  },
  {
   "cell_type": "markdown",
   "metadata": {},
   "source": [
    "**Conforme pode ser observado no gráfico, Lojas Americanas teve seu valor de mercado aumentado mais que \n",
    "Magazine Luíza, ao passo que Submarino teve uma certa estabilidade no preço no período analisado.**"
   ]
  },
  {
   "cell_type": "code",
   "execution_count": 27,
   "metadata": {},
   "outputs": [
    {
     "data": {
      "text/plain": [
       "<matplotlib.axes._subplots.AxesSubplot at 0x2cb44625ac8>"
      ]
     },
     "execution_count": 27,
     "metadata": {},
     "output_type": "execute_result"
    },
    {
     "data": {
      "image/png": "[encoded data removed]",
      "text/plain": [
       "<Figure size 432x288 with 1 Axes>"
      ]
     },
     "metadata": {
      "needs_background": "light"
     },
     "output_type": "display_data"
    }
   ],
   "source": [
    "acoes_Varejo.xs(key='Close',axis=1,level='info').plot()"
   ]
  },
  {
   "cell_type": "markdown",
   "metadata": {},
   "source": [
    "## Médias Móveis\n",
    "\n",
    "Vamos analisar as médias móveis para essas ações no ano de .\n",
    "2015 à 2019\n",
    "** Trace a média de 30 dias para o preço próximo do Magazine Luíza para o ano de 2018 **"
   ]
  },
  {
   "cell_type": "code",
   "execution_count": 28,
   "metadata": {},
   "outputs": [
    {
     "name": "stderr",
     "output_type": "stream",
     "text": [
      "C:\\ProgramData\\Anaconda3\\lib\\site-packages\\ipykernel_launcher.py:2: DeprecationWarning: \n",
      ".ix is deprecated. Please use\n",
      ".loc for label based indexing or\n",
      ".iloc for positional indexing\n",
      "\n",
      "See the documentation here:\n",
      "http://pandas.pydata.org/pandas-docs/stable/indexing.html#ix-indexer-is-deprecated\n",
      "  \n",
      "C:\\ProgramData\\Anaconda3\\lib\\site-packages\\ipykernel_launcher.py:3: DeprecationWarning: \n",
      ".ix is deprecated. Please use\n",
      ".loc for label based indexing or\n",
      ".iloc for positional indexing\n",
      "\n",
      "See the documentation here:\n",
      "http://pandas.pydata.org/pandas-docs/stable/indexing.html#ix-indexer-is-deprecated\n",
      "  This is separate from the ipykernel package so we can avoid doing imports until\n"
     ]
    },
    {
     "data": {
      "text/plain": [
       "<matplotlib.legend.Legend at 0x2cb4452e128>"
      ]
     },
     "execution_count": 28,
     "metadata": {},
     "output_type": "execute_result"
    },
    {
     "data": {
      "image/png": "[encoded data removed]",
      "text/plain": [
       "<Figure size 864x432 with 1 Axes>"
      ]
     },
     "metadata": {
      "needs_background": "light"
     },
     "output_type": "display_data"
    }
   ],
   "source": [
    "plt.figure(figsize=(12,6))\n",
    "mglu['Close'].ix['2015-01-01':'2018-01-01'].rolling(window=30).mean().plot(label='30 Day Avg')\n",
    "mglu['Close'].ix['2015-01-01':'2018-01-01'].plot(label='MGLU3 CLOSE')\n",
    "plt.legend()"
   ]
  },
  {
   "cell_type": "markdown",
   "metadata": {},
   "source": [
    "\n",
    "Como no gráfico de linhas, MGLU e LAME tiveram comportamentos bem semelhantes no período analisado,  embora LAME tenha tido maiores preços de fechamento, isto sinaliza uma forte correlação entre os papéis, o  que pode ser observado nas cores do mapa de calor e nos valores das correlações(quanto mais perto de 1  mais correlacionado).\n",
    "\n",
    "Uma vez que correlação não significa causalidade, podemos entender que esta forte correlação pode se dar por mudanças no padrão de consumo e de compra do consumidor, aumento das vendas via ecommerce, fortes mudanças na política macro implementadas principalmente no segundo semestre de 2016."
   ]
  },
  {
   "cell_type": "code",
   "execution_count": 29,
   "metadata": {},
   "outputs": [
    {
     "data": {
      "text/plain": [
       "<matplotlib.axes._subplots.AxesSubplot at 0x2cb445b7cc0>"
      ]
     },
     "execution_count": 29,
     "metadata": {},
     "output_type": "execute_result"
    },
    {
     "data": {
      "image/png": "[encoded data removed]",
      "text/plain": [
       "<Figure size 432x288 with 2 Axes>"
      ]
     },
     "metadata": {
      "needs_background": "light"
     },
     "output_type": "display_data"
    }
   ],
   "source": [
    "sns.heatmap(acoes_Varejo.xs(key='Close',axis=1,level='info').corr(),annot=True)"
   ]
  },
  {
   "cell_type": "markdown",
   "metadata": {},
   "source": [
    "Com os mesmos valores de correlação, agora usando o clustermap. \n",
    "Observe que ele agrupou os valores de baixa correlação entre Submarino e Magazine luíza e entre Submarino e Lojas americanas. Confirmando a representação do gráfico de linhas, onde submarino teve uma oscilação menos significativa ao longo do período analisado em relação aos seus concorrentes. \n",
    "\n",
    "Maiores investimentos publicidade, em tecnologias de Machine Mearning(sistemas de recomendação), políticas de crédito, facilidade de navegação no site e app poderiam ajudar a melhorar o desempenho da empresa. "
   ]
  },
  {
   "cell_type": "code",
   "execution_count": 30,
   "metadata": {},
   "outputs": [
    {
     "data": {
      "text/plain": [
       "<seaborn.matrix.ClusterGrid at 0x2cb447cb438>"
      ]
     },
     "execution_count": 30,
     "metadata": {},
     "output_type": "execute_result"
    },
    {
     "data": {
      "image/png": "[encoded data removed]",
      "text/plain": [
       "<Figure size 720x720 with 4 Axes>"
      ]
     },
     "metadata": {
      "needs_background": "light"
     },
     "output_type": "display_data"
    }
   ],
   "source": [
    "sns.clustermap(acoes_Varejo.xs(key='Close',axis=1,level='info').corr(),annot=True)"
   ]
  },
  {
   "cell_type": "code",
   "execution_count": null,
   "metadata": {},
   "outputs": [],
   "source": []
  }
 ],
 "metadata": {
  "kernelspec": {
   "display_name": "Python 3",
   "language": "python",
   "name": "python3"
  },
  "language_info": {
   "codemirror_mode": {
    "name": "ipython",
    "version": 3
   },
   "file_extension": ".py",
   "mimetype": "text/x-python",
   "name": "python",
   "nbconvert_exporter": "python",
   "pygments_lexer": "ipython3",
   "version": "3.7.3"
  }
 },
 "nbformat": 4,
 "nbformat_minor": 2
}
